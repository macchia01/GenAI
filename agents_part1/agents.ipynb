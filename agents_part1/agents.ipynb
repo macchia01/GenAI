{
 "cells": [
  {
   "cell_type": "markdown",
   "metadata": {},
   "source": [
    "# https://towardsdatascience.com/ai-agents-from-zero-to-hero-part-1/"
   ]
  },
  {
   "cell_type": "markdown",
   "metadata": {},
   "source": [
    "# 0 - Setup"
   ]
  },
  {
   "cell_type": "code",
   "execution_count": null,
   "metadata": {},
   "outputs": [],
   "source": [
    "#pip install ollama==0.4.7\n",
    "import ollama\n",
    "llm = \"llama3.2\""
   ]
  },
  {
   "cell_type": "code",
   "execution_count": 16,
   "metadata": {},
   "outputs": [
    {
     "ename": "ResponseError",
     "evalue": "model requires more system memory (5.6 GiB) than is available (4.9 GiB) (status code: 500)",
     "output_type": "error",
     "traceback": [
      "\u001b[1;31m---------------------------------------------------------------------------\u001b[0m",
      "\u001b[1;31mResponseError\u001b[0m                             Traceback (most recent call last)",
      "Cell \u001b[1;32mIn[16], line 2\u001b[0m\n\u001b[0;32m      1\u001b[0m stream \u001b[38;5;241m=\u001b[39m ollama\u001b[38;5;241m.\u001b[39mgenerate(model\u001b[38;5;241m=\u001b[39mllm, prompt\u001b[38;5;241m=\u001b[39m\u001b[38;5;124m'''\u001b[39m\u001b[38;5;124mwhat time is it?\u001b[39m\u001b[38;5;124m'''\u001b[39m, stream\u001b[38;5;241m=\u001b[39m\u001b[38;5;28;01mTrue\u001b[39;00m)\n\u001b[1;32m----> 2\u001b[0m \u001b[38;5;28;43;01mfor\u001b[39;49;00m\u001b[43m \u001b[49m\u001b[43mchunk\u001b[49m\u001b[43m \u001b[49m\u001b[38;5;129;43;01min\u001b[39;49;00m\u001b[43m \u001b[49m\u001b[43mstream\u001b[49m\u001b[43m:\u001b[49m\n\u001b[0;32m      3\u001b[0m \u001b[43m    \u001b[49m\u001b[38;5;28;43mprint\u001b[39;49m\u001b[43m(\u001b[49m\u001b[43mchunk\u001b[49m\u001b[43m[\u001b[49m\u001b[38;5;124;43m'\u001b[39;49m\u001b[38;5;124;43mresponse\u001b[39;49m\u001b[38;5;124;43m'\u001b[39;49m\u001b[43m]\u001b[49m\u001b[43m,\u001b[49m\u001b[43m \u001b[49m\u001b[43mend\u001b[49m\u001b[38;5;241;43m=\u001b[39;49m\u001b[38;5;124;43m'\u001b[39;49m\u001b[38;5;124;43m'\u001b[39;49m\u001b[43m,\u001b[49m\u001b[43m \u001b[49m\u001b[43mflush\u001b[49m\u001b[38;5;241;43m=\u001b[39;49m\u001b[38;5;28;43;01mTrue\u001b[39;49;00m\u001b[43m)\u001b[49m\n",
      "File \u001b[1;32mc:\\Users\\nicol\\anaconda_nicola\\envs\\rag_prove\\Lib\\site-packages\\ollama\\_client.py:168\u001b[0m, in \u001b[0;36mClient._request.<locals>.inner\u001b[1;34m()\u001b[0m\n\u001b[0;32m    166\u001b[0m \u001b[38;5;28;01mexcept\u001b[39;00m httpx\u001b[38;5;241m.\u001b[39mHTTPStatusError \u001b[38;5;28;01mas\u001b[39;00m e:\n\u001b[0;32m    167\u001b[0m   e\u001b[38;5;241m.\u001b[39mresponse\u001b[38;5;241m.\u001b[39mread()\n\u001b[1;32m--> 168\u001b[0m   \u001b[38;5;28;01mraise\u001b[39;00m ResponseError(e\u001b[38;5;241m.\u001b[39mresponse\u001b[38;5;241m.\u001b[39mtext, e\u001b[38;5;241m.\u001b[39mresponse\u001b[38;5;241m.\u001b[39mstatus_code) \u001b[38;5;28;01mfrom\u001b[39;00m\u001b[38;5;250m \u001b[39m\u001b[38;5;28;01mNone\u001b[39;00m\n\u001b[0;32m    170\u001b[0m \u001b[38;5;28;01mfor\u001b[39;00m line \u001b[38;5;129;01min\u001b[39;00m r\u001b[38;5;241m.\u001b[39miter_lines():\n\u001b[0;32m    171\u001b[0m   part \u001b[38;5;241m=\u001b[39m json\u001b[38;5;241m.\u001b[39mloads(line)\n",
      "\u001b[1;31mResponseError\u001b[0m: model requires more system memory (5.6 GiB) than is available (4.9 GiB) (status code: 500)"
     ]
    }
   ],
   "source": [
    "stream = ollama.generate(model=llm, prompt='''what time is it?''', stream=True)\n",
    "for chunk in stream:\n",
    "    print(chunk['response'], end='', flush=True)"
   ]
  },
  {
   "cell_type": "markdown",
   "metadata": {},
   "source": [
    "# 1 - Single Agent"
   ]
  },
  {
   "cell_type": "markdown",
   "metadata": {},
   "source": [
    "## 1.1 - Simple (WebSearch)"
   ]
  },
  {
   "cell_type": "code",
   "execution_count": 3,
   "metadata": {},
   "outputs": [
    {
     "data": {
      "text/plain": [
       "\"snippet: There was a feeling of deja vu among Nigerian fans this week. After Atalanta were dumped out of the Champions League by Club Brugge, their manager Gian Piero Gasperini ripped into Ademola Lookman. The Serie A side came into the second leg of the playoff tie trailing 2-1., title: Lookman vs Gasperini: A close look at treatment of Nigerian footballers in Serie A, link: https://www.msn.com/en-us/sports/other/lookman-vs-gasperini-a-close-look-at-treatment-of-nigerian-footballers-in-serie-a/ar-AA1zysFZ, date: 2025-02-22T06:09:00+00:00, source: MSN, snippet: Former Liverpool defender Steve Nicol has exonerated Ademola Lookman and named three persons to blame after the penalty incident against Club Brugge., title: Ademola Lookman: Ex Liverpool Star Names 3 People to Blame After Penalty Incident, link: https://www.msn.com/en-xl/africa/nigeria/ex-liverpool-star-reveals-3-people-to-blame-after-lookmans-penalty-incident/ar-AA1zyXpO, date: 2025-02-22T09:08:00+00:00, source: Legit, snippet: Two Serie A sides are reportedly interested in striking a deal with Atalanta for Nigeria international Ademola Lookman, who appears keen to leave the club after a public falling-out with head coach, title: Two Serie A sides interested in Lookman deal after Gasperini altercation, link: https://sports.yahoo.com/article/two-serie-sides-interested-lookman-152800702.html, date: 2025-02-21T15:28:00+00:00, source: Yahoo! Sports, snippet: Atalanta winger Ademola Lookman says he is saddened by coach Gian Piero Gasperini's comments over his failure to score from the spot against Club Brugge in the Champions League., title: Atalanta winger Lookman rejects coach Gasperini's comments about his costly penalty miss, link: https://www.msn.com/en-us/sports/soccer/atalanta-winger-lookman-rejects-coach-gasperini-s-comments-about-his-costly-penalty-miss/ar-AA1znrPp, date: 2025-02-19T16:51:00+00:00, source: Associated Press\""
      ]
     },
     "execution_count": 3,
     "metadata": {},
     "output_type": "execute_result"
    }
   ],
   "source": [
    "#pip install langchain-community==0.3.17\n",
    "#pip install duckduckgo_search==6.3.5\n",
    "from langchain_community.tools import DuckDuckGoSearchResults \n",
    "\n",
    "def search_web(query: str) -> str:\n",
    "  return DuckDuckGoSearchResults(backend=\"news\").run(query)\n",
    "\n",
    "tool_search_web = {'type':'function', 'function':{\n",
    "  'name': 'search_web',\n",
    "  'description': 'Search the web',\n",
    "  'parameters': {'type': 'object', \n",
    "                 'required': ['query'],\n",
    "                 'properties': {\n",
    "                    'query': {'type':'str', 'description':'the topic or subject to search on the web'},\n",
    "}}}}\n",
    "## test\n",
    "search_web(query=\"lookman gasperini\")"
   ]
  },
  {
   "cell_type": "markdown",
   "metadata": {},
   "source": [
    "## Passaggio 5: Creazione del Tool per Ollama\n",
    "\n",
    "```python\n",
    "tool_search_web = {'type':'function', 'function':{\n",
    "  'name': 'search_web',\n",
    "  'description': 'Search the web',\n",
    "  'parameters': {\n",
    "    'type': 'object',\n",
    "    'required': ['query'],\n",
    "    'properties': {\n",
    "      'query': {'type':'str', 'description':'the topic or subject to search on the web'}\n",
    "    }\n",
    "  }\n",
    "}}\n",
    "```\n",
    "\n",
    "### 🔹 Cos'è questo dizionario?\n",
    "Definisce un **Tool** in un formato che Ollama può comprendere.  \n",
    "\n",
    "### 🔹 Perché serve?\n",
    "Ollama **non può eseguire direttamente funzioni Python**, quindi dobbiamo descrivergli le funzioni disponibili in formato JSON.\n",
    "\n",
    "---\n",
    "\n",
    "## 💡 Analizziamolo riga per riga\n",
    "\n",
    "### 1. Definizione del tipo di Tool\n",
    "```python\n",
    "{'type':'function', 'function':{\n",
    "```\n",
    "* Specifica che questo è un **Tool di tipo \"function\"**.\n",
    "\n",
    "### 2. Nome della funzione\n",
    "```python\n",
    "'name': 'search_web',\n",
    "```\n",
    "* Nome della funzione (sarà riconosciuto da Ollama).\n",
    "\n",
    "### 3. Descrizione della funzione\n",
    "```python\n",
    "'description': 'Search the web',\n",
    "```\n",
    "* Descrizione della funzione (Ollama userà questa informazione per capire cosa fa).\n",
    "\n",
    "### 4. Definizione dei parametri\n",
    "```python\n",
    "'parameters': {'type': 'object',\n",
    "```\n",
    "* Definisce i **parametri** richiesti dalla funzione.\n",
    "\n",
    "### 5. Parametri obbligatori\n",
    "```python\n",
    "'required': ['query'],\n",
    "```\n",
    "* Specifica che **l’unico parametro obbligatorio è \"query\"**.\n",
    "\n",
    "### 6. Definizione delle proprietà dei parametri\n",
    "```python\n",
    "'properties': {\n",
    "  'query': {'type':'str', 'description':'the topic or subject to search on the web'}\n",
    "}\n",
    "```\n",
    "* **Definisce il parametro \"query\"**:\n",
    "  * **`query`**: deve essere una **stringa**.\n",
    "  * **Descrizione**: spiega che serve a specificare il **soggetto della ricerca**.\n",
    "\n",
    "---\n",
    "\n",
    "### 💡 A cosa serve questo dizionario?\n",
    "👉 **Ollama userà queste informazioni per capire come chiamare la funzione.**  \n",
    "Se gli chiedi qualcosa come:  \n",
    "_\"Find the latest news about Apple\"_  \n",
    "potrà usare il Tool per cercare su internet."
   ]
  },
  {
   "cell_type": "code",
   "execution_count": 4,
   "metadata": {},
   "outputs": [
    {
     "data": {
      "text/plain": [
       "'snippet: Nvidia (NASDAQ: NVDA) has been one of the best-performing stocks on the planet in recent years. The company has created an artificial intelligence (AI) empire, making itself the \"go to\" player for any customer aiming to build an AI platform., title: Is Nvidia a Bargain Buy Before Feb. 26? The Evidence Is Piling Up and Here\\'s What It Shows., link: https://finance.yahoo.com/news/nvidia-bargain-buy-feb-26-091000850.html, date: 2025-02-22T09:10:00+00:00, source: YAHOO!Finance, snippet: Nvidia options are somewhat expensive heading into the company\\'s earnings next week. - . Tech bellwether Nvidia NVDA is due to report earnings on Feb. 26 after the c, title: Nvidia options traders are vastly overestimating how earnings will move the stock. Just look at these charts., link: https://finance.yahoo.com/news/nvidia-options-traders-vastly-overestimating-220900521.html?fr=sycsrp_catchall, date: 2025-02-21T18:17:00+00:00, source: YAHOO!Finance, snippet: Market Domination Overtime hosts Julie Hyman and Alexandra Canal preview the top stories and economic data to come out next week. Berkshire Hathaway (BRK-B, BRK-A) CEO Warren Buffett will be releasing his annual letter to shareholders this Saturday,, title: Warren Buffett\\'s letter, Nvidia earnings, PCE: What to Watch, link: https://finance.yahoo.com/video/warren-buffetts-letter-nvidia-earnings-000006185.html, date: 2025-02-22T00:00:00+00:00, source: YAHOO!Finance, snippet: As NVIDIA increases the output of its next-generation Blackwell architecture, its AI hardwareespecially its H200 GPUsis surpassing sales projections. For this year, the company anticipates the H200 to account for thirty percent of NVIDIA\\'s product range., title: Oppenheimer Reiterates Outperform Rating on NVIDIA, Citing AI Accelerator Demand, link: https://finance.yahoo.com/news/oppenheimer-reiterates-outperform-rating-nvidia-201816700.html, date: 2025-02-20T20:19:00+00:00, source: YAHOO!Finance'"
      ]
     },
     "execution_count": 4,
     "metadata": {},
     "output_type": "execute_result"
    }
   ],
   "source": [
    "def search_yf(query: str) -> str:\n",
    "  return DuckDuckGoSearchResults(backend=\"news\").run(f\"site:finance.yahoo.com {query}\")\n",
    "\n",
    "tool_search_yf = {'type':'function', 'function':{\n",
    "  'name': 'search_yf',\n",
    "  'description': 'Search for specific financial news',\n",
    "  'parameters': {'type': 'object', \n",
    "                 'required': ['query'],\n",
    "                 'properties': {\n",
    "                    'query': {'type':'str', 'description':'the financial topic or subject to search'},\n",
    "}}}}\n",
    "## test\n",
    "search_yf(query=\"nvidia\")"
   ]
  },
  {
   "cell_type": "code",
   "execution_count": null,
   "metadata": {},
   "outputs": [
    {
     "name": "stdout",
     "output_type": "stream",
     "text": [
      "DEBUG: Hai scritto -> Enter\n",
      "DEBUG: Sto chiamando ollama.chat...\n",
      "DEBUG: ollama.chat() ha risposto!\n",
      "DEBUG: Risultato da ollama.chat(): model='llama3.2' created_at='2025-02-22T09:54:18.018084Z' done=True done_reason='stop' total_duration=24464067300 load_duration=66746800 prompt_eval_count=241 prompt_eval_duration=24168000000 eval_count=2 eval_duration=222000000 message=Message(role='assistant', content='None', images=None, tool_calls=None)\n",
      "DEBUG: Hai scritto -> quit\n"
     ]
    }
   ],
   "source": [
    "prompt = '''You are an AI assistant. You should answer user questions directly whenever possible. \n",
    "Use tools only if the user asks for specific information that requires an external search.'''\n",
    "messages = [{\"role\":\"system\", \"content\":prompt}]\n",
    "\n",
    "while True:\n",
    "    ## user input\n",
    "    try:\n",
    "        q = input('🙂 >')\n",
    "        print(f\"DEBUG: Hai scritto -> {q}\")  # Debug\n",
    "    except EOFError:\n",
    "        break\n",
    "    if q == \"quit\":\n",
    "        break\n",
    "    if q.strip() == \"\":\n",
    "        continue\n",
    "    messages.append( {\"role\":\"user\", \"content\":q} )\n",
    "    \n",
    "    print(\"DEBUG: Sto chiamando ollama.chat...\")\n",
    "    agent_res = ollama.chat(\n",
    "        model=llm,\n",
    "        stream=False,\n",
    "        tools=[tool_search_web, tool_search_yf],\n",
    "        messages=messages\n",
    "    )\n",
    "    print(\"DEBUG: ollama.chat() ha risposto!\")\n",
    "    print(\"DEBUG: Risultato da ollama.chat():\", agent_res)\n",
    "\n",
    "#############\n",
    "??????????????????????????????\n",
    "#############"
   ]
  }
 ],
 "metadata": {
  "kernelspec": {
   "display_name": "Python (rag_prove)",
   "language": "python",
   "name": "rag_prove"
  },
  "language_info": {
   "codemirror_mode": {
    "name": "ipython",
    "version": 3
   },
   "file_extension": ".py",
   "mimetype": "text/x-python",
   "name": "python",
   "nbconvert_exporter": "python",
   "pygments_lexer": "ipython3",
   "version": "3.11.11"
  }
 },
 "nbformat": 4,
 "nbformat_minor": 2
}
